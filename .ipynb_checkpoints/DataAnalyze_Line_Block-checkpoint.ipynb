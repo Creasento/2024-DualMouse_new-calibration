{
 "cells": [
  {
   "cell_type": "code",
   "execution_count": 1,
   "metadata": {},
   "outputs": [],
   "source": [
    "import pandas as pd\n",
    "import numpy as np\n",
    "import matplotlib.pyplot as plt\n",
    "import seaborn as sns\n",
    "import os, math"
   ]
  },
  {
   "cell_type": "code",
   "execution_count": 2,
   "metadata": {},
   "outputs": [],
   "source": [
    "def getIDe(df, D, W, C) :\n",
    "    \n",
    "    df_mean = df.groupby([\"Distance\", \"Width\", \"Count\"]).mean().reset_index()\n",
    "    df_get  = df[(df[\"Distance\"] == D) & (df[\"Width\"] == W) &(df.Count == C)]\n",
    "    N = df_get.shape[0]\n",
    "    X = df_mean[(df_mean[\"Distance\"] == D) & (df_mean[\"Width\"] == W) &(df_mean.Count == C)][\"CursorX\"]\n",
    "    Y = df_mean[(df_mean[\"Distance\"] == D) & (df_mean[\"Width\"] == W) &(df_mean.Count == C)][\"CursorY\"]\n",
    "    df_get[\"dX\"] = df_get[\"CursorX\"].map(lambda x : (x - X) ** 2)\n",
    "    df_get[\"dY\"] = df_get[\"CursorY\"].map(lambda x : (x - Y) ** 2)\n",
    "    df_get[\"dXY\"] = df_get.apply(lambda x : (math.sqrt(x[\"dX\"] + x[\"dY\"]))**2 , axis = 1)\n",
    "    We = df_get[\"dXY\"].sum()/(N-1)\n",
    "    De = D\n",
    "    if C != 1 :\n",
    "        \n",
    "        pX = df_mean[(df_mean[\"Distance\"] == D) & (df_mean[\"Width\"] == W) &(df_mean.Count == C-1)][\"CursorX\"].iloc[[0]]\n",
    "        pY = df_mean[(df_mean[\"Distance\"] == D) & (df_mean[\"Width\"] == W) &(df_mean.Count == C-1)][\"CursorY\"].iloc[[0]]\n",
    "        X = X.iloc[0]\n",
    "        Y = Y.iloc[0]\n",
    "        \n",
    "        De = math.sqrt((pX - X)**2 + (pY - Y)**2)\n",
    "        \n",
    "    IDe = math.log((De/We + 1), 2)\n",
    "    return IDe\n",
    "    "
   ]
  },
  {
   "cell_type": "code",
   "execution_count": 3,
   "metadata": {},
   "outputs": [],
   "source": [
    "def getID(W, D):\n",
    "    \n",
    "    return math.log(D/W +1, 2)\n"
   ]
  },
  {
   "cell_type": "code",
   "execution_count": 4,
   "metadata": {},
   "outputs": [],
   "source": [
    "def getTP(df):\n",
    "    \n",
    "    TP_avg = df.apply(lambda x : x[\"IDe\"]/(x[\"Time(nanosec)\"]/1000000000), axis = 1).mean()\n",
    "    return TP_avg\n",
    "    "
   ]
  },
  {
   "cell_type": "code",
   "execution_count": 5,
   "metadata": {},
   "outputs": [],
   "source": [
    "def getAngle(cnt, cycle = 11) :\n",
    "    \n",
    "    n = (cnt%2 * cycle//2 + cnt//2 + cnt%2) % cycle\n",
    "    angle = (360/cycle)*n\n",
    "    \n",
    "    return angle"
   ]
  },
  {
   "cell_type": "code",
   "execution_count": 6,
   "metadata": {},
   "outputs": [],
   "source": [
    "def isEffAngle(cnt, cycle = 11) :\n",
    "    \n",
    "    EffAngle = []\n",
    "    for i in range(1, cycle+1) :\n",
    "        \n",
    "        Center = cycle//2 + 1\n",
    "        \n",
    "        if (i > 2 and i < Center-1) or (i > Center+1 and i < cycle-1) : \n",
    "            EffAngle.append(i)\n",
    "            \n",
    "    return cnt in EffAngle"
   ]
  },
  {
   "cell_type": "code",
   "execution_count": 7,
   "metadata": {},
   "outputs": [
    {
     "ename": "FileNotFoundError",
     "evalue": "[WinError 3] 지정된 경로를 찾을 수 없습니다: 'C:/Users/USER-PC/Desktop/김영웅'",
     "output_type": "error",
     "traceback": [
      "\u001b[1;31m---------------------------------------------------------------------------\u001b[0m",
      "\u001b[1;31mFileNotFoundError\u001b[0m                         Traceback (most recent call last)",
      "\u001b[1;32m<ipython-input-7-359407e2c224>\u001b[0m in \u001b[0;36m<module>\u001b[1;34m\u001b[0m\n\u001b[0;32m      1\u001b[0m \u001b[0mdir\u001b[0m \u001b[1;33m=\u001b[0m \u001b[1;34mr\"C:/Users/USER-PC/Desktop/김영웅\"\u001b[0m\u001b[1;33m\u001b[0m\u001b[1;33m\u001b[0m\u001b[0m\n\u001b[1;32m----> 2\u001b[1;33m \u001b[0mos\u001b[0m\u001b[1;33m.\u001b[0m\u001b[0mlistdir\u001b[0m\u001b[1;33m(\u001b[0m\u001b[0mdir\u001b[0m\u001b[1;33m)\u001b[0m\u001b[1;33m\u001b[0m\u001b[1;33m\u001b[0m\u001b[0m\n\u001b[0m",
      "\u001b[1;31mFileNotFoundError\u001b[0m: [WinError 3] 지정된 경로를 찾을 수 없습니다: 'C:/Users/USER-PC/Desktop/김영웅'"
     ]
    }
   ],
   "source": [
    "dir = r\"C:/Users/USER-PC/Desktop/김영웅\"\n",
    "os.listdir(dir)"
   ]
  },
  {
   "cell_type": "code",
   "execution_count": null,
   "metadata": {},
   "outputs": [],
   "source": [
    "dflst = []\n",
    "poslst = [0, 0.2, 0.4, 0.5, 0.6, 0.8, 1]\n",
    "\n",
    "dir_block = dir + \"/\" + os.listdir(dir)[0]\n",
    "dirlst = os.listdir(dir_block)\n",
    "dirlst"
   ]
  },
  {
   "cell_type": "code",
   "execution_count": null,
   "metadata": {},
   "outputs": [],
   "source": [
    "for file in dirlst :\n",
    "    \n",
    "    filedir = dir_block + \"/\" + file + \"/Pos_values.csv\"\n",
    "    df = pd.read_csv(filedir)\n",
    "    df[\"ID\"] = df.apply(lambda x : getID(x[\"Width\"], x[\"Distance\"]), axis = 1)\n",
    "    df[\"IDe\"] = df.apply(lambda x : getIDe(df, x.Distance, x.Width, x.Count), axis = 1)\n",
    "    dflst.append(df)\n",
    "    df = None"
   ]
  },
  {
   "cell_type": "code",
   "execution_count": null,
   "metadata": {},
   "outputs": [],
   "source": [
    "dflst[0]"
   ]
  },
  {
   "cell_type": "code",
   "execution_count": null,
   "metadata": {},
   "outputs": [],
   "source": [
    "tplst = []\n",
    "\n",
    "for df in dflst :\n",
    "    \n",
    "    print(getTP(df))\n",
    "    tplst.append(getTP(df))"
   ]
  },
  {
   "cell_type": "code",
   "execution_count": null,
   "metadata": {},
   "outputs": [],
   "source": [
    "plt.plot(poslst, tplst)"
   ]
  },
  {
   "cell_type": "code",
   "execution_count": null,
   "metadata": {},
   "outputs": [],
   "source": [
    "dir_line = dir + \"/\" + os.listdir(dir)[1] + \"/Pos_values.csv\"\n",
    "df_line = pd.read_csv(dir_line)\n",
    "df_line"
   ]
  },
  {
   "cell_type": "code",
   "execution_count": null,
   "metadata": {},
   "outputs": [],
   "source": [
    "df_line.PositionValue.plot.density()"
   ]
  },
  {
   "cell_type": "code",
   "execution_count": null,
   "metadata": {},
   "outputs": [],
   "source": [
    "fig, axes = plt.subplots(2, 1, sharex = True)\n",
    "df_line.PositionValue.plot.density(ax = axes[1])\n",
    "axes[0].plot(poslst, tplst)"
   ]
  },
  {
   "cell_type": "code",
   "execution_count": null,
   "metadata": {
    "scrolled": false
   },
   "outputs": [],
   "source": [
    "dflst[-1][\"Angle\"] = dflst[-1][\"Count\"].map(getAngle)\n",
    "dflst[-1][\"EffAngle\"] = dflst[-1][\"Count\"].map(isEffAngle)\n",
    "dflst[-1] = dflst[-1][df_fil[\"EffAngle\"]]"
   ]
  },
  {
   "cell_type": "code",
   "execution_count": null,
   "metadata": {},
   "outputs": [],
   "source": [
    "fig, axes = plt.subplots(2, 1, sharex = True)\n",
    "df_line.PositionValue.plot.density(ax = axes[1])\n",
    "axes[0].plot(poslst, tplst)"
   ]
  }
 ],
 "metadata": {
  "kernelspec": {
   "display_name": "Python 3",
   "language": "python",
   "name": "python3"
  },
  "language_info": {
   "codemirror_mode": {
    "name": "ipython",
    "version": 3
   },
   "file_extension": ".py",
   "mimetype": "text/x-python",
   "name": "python",
   "nbconvert_exporter": "python",
   "pygments_lexer": "ipython3",
   "version": "3.8.5"
  }
 },
 "nbformat": 4,
 "nbformat_minor": 5
}
