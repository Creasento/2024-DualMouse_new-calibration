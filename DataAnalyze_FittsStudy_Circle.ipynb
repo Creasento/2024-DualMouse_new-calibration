{
 "cells": [
  {
   "cell_type": "markdown",
   "id": "b0cfb11f",
   "metadata": {},
   "source": [
    "## Analyze Fiit's Like Study (Line) Data"
   ]
  },
  {
   "cell_type": "code",
   "execution_count": 1,
   "id": "78d7e29a",
   "metadata": {},
   "outputs": [],
   "source": [
    "import pandas as pd\n",
    "import numpy as np\n",
    "import matplotlib.pyplot as plt\n",
    "import seaborn as sns\n",
    "import os\n",
    "\n",
    "sns.set_theme(style = \"whitegrid\")"
   ]
  },
  {
   "cell_type": "code",
   "execution_count": 2,
   "id": "a1846192",
   "metadata": {},
   "outputs": [],
   "source": [
    "def getAngle(cnt, cycle = 11) :\n",
    "    \n",
    "    n = (cnt%2 * cycle//2 + cnt//2 + cnt%2) % cycle\n",
    "    angle = (360/cycle)*n\n",
    "    \n",
    "    return angle"
   ]
  },
  {
   "cell_type": "code",
   "execution_count": 3,
   "id": "3a0e8654",
   "metadata": {},
   "outputs": [],
   "source": [
    "# Effective Target Angel : Except smallest two, Largest two, and three middle Angle\n",
    "\n",
    "def isEffAngle(cnt, cycle = 11) :\n",
    "    \n",
    "    EffAngle = []\n",
    "    for i in range(1, cycle+1) :\n",
    "        \n",
    "        Center = cycle//2 + 1\n",
    "        \n",
    "        if (i > 2 and i < Center-1) or (i > Center+1 and i < cycle-1) : \n",
    "            EffAngle.append(i)\n",
    "            \n",
    "    return cnt in EffAngle\n",
    "        "
   ]
  },
  {
   "cell_type": "code",
   "execution_count": 4,
   "id": "d42fde0f",
   "metadata": {},
   "outputs": [],
   "source": [
    "_dir = r\"DualSensorMouse_Fittslike_Circle\\Logs\""
   ]
  },
  {
   "cell_type": "code",
   "execution_count": 5,
   "id": "8c4ebced",
   "metadata": {
    "scrolled": true
   },
   "outputs": [
    {
     "data": {
      "text/plain": [
       "['BMH_circie_v2_1',\n",
       " 'BMH_circle1',\n",
       " 'BMH_circle2',\n",
       " 'BMH_circle3',\n",
       " 'BMH_circle4',\n",
       " 'BMH_circle5',\n",
       " 'BMH_circle6',\n",
       " 'BMH_circle7',\n",
       " 'BMH_circle8',\n",
       " 'BMH_circle_10_1',\n",
       " 'BMH_circle_10_2',\n",
       " 'BMH_circle_10_3',\n",
       " 'BMH_circle_10_4',\n",
       " 'BMH_circle_90_1',\n",
       " 'BMH_circle_90_2',\n",
       " 'BMH_circle_90_3',\n",
       " 'BMH_circle_90_4',\n",
       " 'LHN_circle1',\n",
       " 'RYS_circle1',\n",
       " 'RYS_circle2']"
      ]
     },
     "execution_count": 5,
     "metadata": {},
     "output_type": "execute_result"
    }
   ],
   "source": [
    "os.listdir(_dir)"
   ]
  },
  {
   "cell_type": "code",
   "execution_count": 6,
   "id": "42cd9658",
   "metadata": {},
   "outputs": [],
   "source": [
    "Username = \"BMH\"\n",
    "UsernameC = \"_circle_v2_1\""
   ]
  },
  {
   "cell_type": "code",
   "execution_count": 7,
   "id": "240fe37b",
   "metadata": {},
   "outputs": [],
   "source": [
    "_dirC = _dir+f\"/{Username+UsernameC}\""
   ]
  },
  {
   "cell_type": "code",
   "execution_count": 8,
   "id": "4063adc9",
   "metadata": {
    "scrolled": true
   },
   "outputs": [
    {
     "ename": "FileNotFoundError",
     "evalue": "[WinError 3] 지정된 경로를 찾을 수 없습니다: 'DualSensorMouse_Fittslike_Circle\\\\Logs/BMH_circle_v2_1'",
     "output_type": "error",
     "traceback": [
      "\u001b[1;31m---------------------------------------------------------------------------\u001b[0m",
      "\u001b[1;31mFileNotFoundError\u001b[0m                         Traceback (most recent call last)",
      "Cell \u001b[1;32mIn[8], line 1\u001b[0m\n\u001b[1;32m----> 1\u001b[0m dirlstW \u001b[38;5;241m=\u001b[39m \u001b[43mos\u001b[49m\u001b[38;5;241;43m.\u001b[39;49m\u001b[43mlistdir\u001b[49m\u001b[43m(\u001b[49m\u001b[43m_dirC\u001b[49m\u001b[43m)\u001b[49m\n\u001b[0;32m      2\u001b[0m dirlstW\n",
      "\u001b[1;31mFileNotFoundError\u001b[0m: [WinError 3] 지정된 경로를 찾을 수 없습니다: 'DualSensorMouse_Fittslike_Circle\\\\Logs/BMH_circle_v2_1'"
     ]
    }
   ],
   "source": [
    "dirlstW = os.listdir(_dirC)\n",
    "dirlstW"
   ]
  },
  {
   "cell_type": "markdown",
   "id": "63ab226e",
   "metadata": {},
   "source": [
    "---"
   ]
  },
  {
   "cell_type": "code",
   "execution_count": null,
   "id": "6c52f570",
   "metadata": {},
   "outputs": [],
   "source": [
    "dflstW = []\n",
    "\n",
    "for dw in dirlstW :\n",
    "    \n",
    "    Dirw = _dirC + f\"/{dw}/Pos_values.csv\"\n",
    "    dfw = pd.read_csv(Dirw)\n",
    "    dfw = dfw[dfw[\"Success\"] == \"T\"]\n",
    "    dflstW.append(dfw)"
   ]
  },
  {
   "cell_type": "code",
   "execution_count": null,
   "id": "aee8ae40",
   "metadata": {
    "scrolled": true
   },
   "outputs": [],
   "source": [
    "for dfw in dflstW :\n",
    "    \n",
    "    dfw[\"PositionValue\"].plot.density(label=\"circle\")\n",
    "    plt.legend()\n",
    "    plt.title(Username)"
   ]
  },
  {
   "cell_type": "code",
   "execution_count": null,
   "id": "f29c58a1-e9e7-485e-b317-f6a353b0f171",
   "metadata": {},
   "outputs": [],
   "source": [
    "data_dfw = dfw[\"PositionValue\"]\n",
    "\n",
    "histw, bin_edgesw = np.histogram(data_dfw, bins=30, density=True)\n",
    "\n",
    "bin_centersw = (bin_edgesw[:-1] + bin_edgesw[1:]) / 2\n",
    "\n",
    "com_dfw = np.sum(bin_centersw * histw) / np.sum(histw)\n",
    "\n",
    "print(\"Center of Mass for dfC:\", com_dfw)\n",
    "\n",
    "dfw[\"PositionValue\"].plot.density(label=\"circle\")\n",
    "plt.axvline(x=com_dfw, color='g', linestyle='--', label='CoM_circle')\n",
    "plt.legend()\n",
    "plt.title(Username+\"-CoM\")\n",
    "plt.show()"
   ]
  },
  {
   "cell_type": "code",
   "execution_count": null,
   "id": "4532ba0c-0103-4847-99d9-40c87a38601a",
   "metadata": {},
   "outputs": [],
   "source": []
  }
 ],
 "metadata": {
  "kernelspec": {
   "display_name": "Python 3 (ipykernel)",
   "language": "python",
   "name": "python3"
  },
  "language_info": {
   "codemirror_mode": {
    "name": "ipython",
    "version": 3
   },
   "file_extension": ".py",
   "mimetype": "text/x-python",
   "name": "python",
   "nbconvert_exporter": "python",
   "pygments_lexer": "ipython3",
   "version": "3.9.2"
  }
 },
 "nbformat": 4,
 "nbformat_minor": 5
}
