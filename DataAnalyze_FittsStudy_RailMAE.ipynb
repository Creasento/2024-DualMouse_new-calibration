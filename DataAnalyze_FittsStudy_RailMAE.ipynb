{
 "cells": [
  {
   "cell_type": "markdown",
   "id": "b0cfb11f",
   "metadata": {},
   "source": [
    "## Analyze Fiit's Like Study (Line) Data"
   ]
  },
  {
   "cell_type": "code",
   "execution_count": 3,
   "id": "78d7e29a",
   "metadata": {},
   "outputs": [
    {
     "ename": "ModuleNotFoundError",
     "evalue": "No module named 'pandas'",
     "output_type": "error",
     "traceback": [
      "\u001b[1;31m---------------------------------------------------------------------------\u001b[0m",
      "\u001b[1;31mModuleNotFoundError\u001b[0m                       Traceback (most recent call last)",
      "\u001b[1;32m~\\AppData\\Local\\Temp/ipykernel_37712/2737163729.py\u001b[0m in \u001b[0;36m<module>\u001b[1;34m\u001b[0m\n\u001b[1;32m----> 1\u001b[1;33m \u001b[1;32mimport\u001b[0m \u001b[0mpandas\u001b[0m \u001b[1;32mas\u001b[0m \u001b[0mpd\u001b[0m\u001b[1;33m\u001b[0m\u001b[1;33m\u001b[0m\u001b[0m\n\u001b[0m\u001b[0;32m      2\u001b[0m \u001b[1;32mimport\u001b[0m \u001b[0mnumpy\u001b[0m \u001b[1;32mas\u001b[0m \u001b[0mnp\u001b[0m\u001b[1;33m\u001b[0m\u001b[1;33m\u001b[0m\u001b[0m\n\u001b[0;32m      3\u001b[0m \u001b[1;32mfrom\u001b[0m \u001b[0mscipy\u001b[0m\u001b[1;33m.\u001b[0m\u001b[0mstats\u001b[0m \u001b[1;32mimport\u001b[0m \u001b[0mgaussian_kde\u001b[0m\u001b[1;33m\u001b[0m\u001b[1;33m\u001b[0m\u001b[0m\n\u001b[0;32m      4\u001b[0m \u001b[1;32mimport\u001b[0m \u001b[0mmatplotlib\u001b[0m\u001b[1;33m.\u001b[0m\u001b[0mpyplot\u001b[0m \u001b[1;32mas\u001b[0m \u001b[0mplt\u001b[0m\u001b[1;33m\u001b[0m\u001b[1;33m\u001b[0m\u001b[0m\n\u001b[0;32m      5\u001b[0m \u001b[1;32mimport\u001b[0m \u001b[0mseaborn\u001b[0m \u001b[1;32mas\u001b[0m \u001b[0msns\u001b[0m\u001b[1;33m\u001b[0m\u001b[1;33m\u001b[0m\u001b[0m\n",
      "\u001b[1;31mModuleNotFoundError\u001b[0m: No module named 'pandas'"
     ]
    }
   ],
   "source": [
    "import pandas as pd\n",
    "import numpy as np\n",
    "from scipy.stats import gaussian_kde\n",
    "import matplotlib.pyplot as plt\n",
    "import seaborn as sns\n",
    "import os\n",
    "from scipy.interpolate import interp1d\n",
    "\n",
    "\n",
    "sns.set_theme(style = \"whitegrid\")"
   ]
  },
  {
   "cell_type": "code",
   "execution_count": null,
   "id": "d42fde0f",
   "metadata": {},
   "outputs": [],
   "source": [
    "_dir = r\"DualSensorMouse_Fittslike_RailMAE\\Logs\""
   ]
  },
  {
   "cell_type": "code",
   "execution_count": null,
   "id": "42cd9658",
   "metadata": {},
   "outputs": [],
   "source": [
    "Try = \"10\"\n",
    "UserName = \"BMH\""
   ]
  },
  {
   "cell_type": "code",
   "execution_count": null,
   "id": "240fe37b",
   "metadata": {},
   "outputs": [],
   "source": [
    "_dirCC = _dir+f\"\\{UserName}\\{Try}\""
   ]
  },
  {
   "cell_type": "code",
   "execution_count": null,
   "id": "4063adc9",
   "metadata": {
    "scrolled": true
   },
   "outputs": [],
   "source": [
    "dirlstWW = os.listdir(_dirCC)\n",
    "\n",
    "dirlstWW"
   ]
  },
  {
   "cell_type": "markdown",
   "id": "63ab226e",
   "metadata": {},
   "source": [
    "---"
   ]
  },
  {
   "cell_type": "code",
   "execution_count": null,
   "id": "6c52f570",
   "metadata": {},
   "outputs": [],
   "source": [
    "dflstW = [f.path for f in os.scandir(_dirCC) if f.is_dir()]\n",
    "max_densityV = []\n",
    "\n",
    "colors = plt.cm.viridis(np.linspace(0, 1, len(dflstW)))\n",
    "\n",
    "plt.figure(figsize=(10, 6))\n",
    "\n",
    "for subdir in dflstW:\n",
    "    subdir_parts = subdir.split('_')\n",
    "    subdir_info = {\n",
    "        \"User\": subdir_parts[2],\n",
    "        \"Type\": subdir_parts[3],\n",
    "        \"SenP\": subdir_parts[4],\n",
    "        \"Trial\": subdir_parts[5]\n",
    "    }\n",
    "    subdir_shortened = f\"{subdir_info['SenP']}_{subdir_info['Trial']}\"\n",
    "    subdir_path = subdir\n",
    "    \n",
    "    subsubdirs = [d for d in os.listdir(subdir_path) if os.path.isdir(os.path.join(subdir_path, d))]\n",
    "    for subsubdir in subsubdirs:\n",
    "        subsubdir_path = os.path.join(subdir_path, subsubdir)\n",
    "        Dirw = os.path.join(subsubdir_path, \"Pos_values.csv\")\n",
    "\n",
    "        data = pd.read_csv(Dirw)\n",
    "        data = data[(data[\"PositionValue\"] >= -0.5) & (data[\"PositionValue\"] <= 1.5)]\n",
    "\n",
    "        kde = gaussian_kde(data[\"PositionValue\"])\n",
    "        x_values = np.linspace(data[\"PositionValue\"].min(), data[\"PositionValue\"].max(), 1000)\n",
    "        densities = kde.evaluate(x_values)\n",
    "        max_density_x = x_values[np.argmax(densities)]\n",
    "        max_densityV.append(max_density_x)\n",
    "        print(f\"Max Peak at {subdir_shortened}: {max_density_x:.3f}\")\n",
    "        #plt.axvline(x=max_density_x, color='r', linestyle='--', label=f'Max Peak at {max_density_x:.2f}')\n",
    "        \n",
    "        plt.plot(x_values, densities, label=subdir_shortened)  # 각 선에 레이블 추가\n",
    "\n",
    "meanMD = sum(max_densityV) / len(max_densityV)\n",
    "\n",
    "print(f\"Mean of Max Peak: {meanMD:.3f}\")\n",
    "\n",
    "plt.legend()\n",
    "plt.title('Kernel Density Estimate for PositionValue')\n",
    "plt.xlabel('PositionValue')\n",
    "plt.ylabel('Density')\n",
    "plt.show()"
   ]
  },
  {
   "cell_type": "code",
   "execution_count": null,
   "id": "f29c58a1-e9e7-485e-b317-f6a353b0f171",
   "metadata": {},
   "outputs": [],
   "source": [
    "dflstW = []\n",
    "CoM_values = []\n",
    "\n",
    "# 각 하위 디렉토리에 대해 또 다른 하위 디렉토리 탐색\n",
    "for subdir in dirlstWW:\n",
    "    subdir_parts = subdir.split('_')\n",
    "    # 필요한 값만 선택하여 저장\n",
    "    subdir_info = {\n",
    "        \"User\": subdir_parts[0],\n",
    "        \"Type\": subdir_parts[1],\n",
    "        \"SenP\": subdir_parts[2],\n",
    "        \"Trial\": subdir_parts[3]\n",
    "    }\n",
    "    subdir_shortened = f\"{subdir_info['SenP']}_{subdir_info['Trial']}\"\n",
    "    subdir_path = os.path.join(_dirCC, subdir)\n",
    "    \n",
    "    # 또 다른 하위 디렉토리 목록 가져오기\n",
    "    subsubdirs = [d for d in os.listdir(subdir_path) if os.path.isdir(os.path.join(subdir_path, d))]\n",
    "    # 또 다른 하위 디렉토리에서 Pos_values.csv 파일 찾기\n",
    "    for subsubdir in subsubdirs:\n",
    "        subsubdir_path = os.path.join(subdir_path, subsubdir)\n",
    "        Dirw = os.path.join(subsubdir_path, \"Pos_values.csv\")\n",
    "        if os.path.exists(Dirw):\n",
    "            #if subdir_info[\"Trial\"] == \"1\":  #통계 조건만 빼서 보고 싶을 때 사용\n",
    "                dfw = pd.read_csv(Dirw)\n",
    "                dfw = dfw[(dfw[\"PositionValue\"] >= -0.5) & (dfw[\"PositionValue\"] <= 1.5)]\n",
    "                dflstW.append((dfw, subdir_shortened))  # 수정된 subdir 이름 사용\n",
    "\n",
    "# 그래프 그리기\n",
    "for dfw, subdir_shortened in dflstW:\n",
    "    dfw[\"PositionValue\"].plot.density(label=subdir_shortened)\n",
    "    \n",
    "    CoM = dfw[\"PositionValue\"].mean()\n",
    "    CoM_values.append(CoM)\n",
    "    \n",
    "    # CoM 출력\n",
    "    print(f\"CoM of {subdir_shortened}: {CoM:.3f}\")\n",
    "\n",
    "# CoM들의 평균 계산\n",
    "CCoM = sum(CoM_values) / len(CoM_values)\n",
    "\n",
    "print(f\"CoM of CoMs: {CCoM:.3f}\")\n",
    "\n",
    "plt.legend()\n",
    "plt.title('Trial '+Try+' ('+UserName+')')\n",
    "plt.ylim(0, 2.0)\n",
    "plt.xlim(-1,2)\n",
    "plt.show()"
   ]
  },
  {
   "cell_type": "code",
   "execution_count": null,
   "id": "0ce35856-c273-4bb9-961d-e54a3322aabe",
   "metadata": {},
   "outputs": [],
   "source": [
    "mae_sums = [0] * 11  # MAE0부터 MAE10까지의 값에 대한 누적 합\n",
    "mae_counts = [0] * 11  # MAE0부터 MAE10까지의 값의 개수\n",
    "\n",
    "FS = 28\n",
    "\n",
    "x_values1 = [2, 3, 4, 5, 6, 7, 8]\n",
    "\n",
    "if (UserName == \"BMH\"):\n",
    "    y_values1 = [5.942233333, 6.204633333, 6.2866, 6.2995, 6.459, 6.432033333, 6.268233333] #Baek\n",
    "elif (UserName == \"RYS\"):\n",
    "    y_values1 = [6.295, 6.1189, 6.4903, 6.29, 6.559, 6.38, 6.2826] #Ryu\n",
    "elif (UserName == \"LYS\"):\n",
    "    y_values1 = [4.237, 4.7684, 4.4136, 4.7488, 4.6488, 4.3106, 4.6854] #Baek\n",
    "else:\n",
    "    y_values1 = [6.2556, 6.1885, 6.0477, 6.08, 6.1224, 6.011, 6.0871] #Baek\n",
    "\n",
    "y_min = min(y_values1)\n",
    "y_max = max(y_values1)\n",
    "\n",
    "# 각 하위 디렉토리에 대해 또 다른 하위 디렉토리 탐색\n",
    "for subdir in dirlstWW:\n",
    "    subdir_parts = subdir.split('_')\n",
    "    subdir_path = os.path.join(_dirCC, subdir)\n",
    "    \n",
    "    # 또 다른 하위 디렉토리 목록 가져오기\n",
    "    subsubdirs = [d for d in os.listdir(subdir_path) if os.path.isdir(os.path.join(subdir_path, d))]\n",
    "    # 또 다른 하위 디렉토리에서 Pos_values.csv 파일 찾기\n",
    "    for subsubdir in subsubdirs:\n",
    "        subsubdir_path = os.path.join(subdir_path, subsubdir)\n",
    "        Dirw = os.path.join(subsubdir_path, \"Pos_values.csv\")\n",
    "        if os.path.exists(Dirw):\n",
    "            dfw = pd.read_csv(Dirw)\n",
    "            dfw = dfw[(dfw[\"PositionValue\"] >= -0.5) & (dfw[\"PositionValue\"] <= 1.5)]\n",
    "            \n",
    "            # 각 MAE 값들을 더하여 누적 합 계산\n",
    "            for i in range(11):\n",
    "                mae_sums[i] += dfw[f'MAE{i}'].sum()\n",
    "                mae_counts[i] += len(dfw)\n",
    "                \n",
    "# 각 MAE 값들의 평균 계산\n",
    "mae_means = [sum / count for sum, count in zip(mae_sums, mae_counts)]\n",
    "\n",
    "f = interp1d(range(11), mae_means, kind='cubic') #보간\n",
    "x_new = np.linspace(0, 10, num=100, endpoint=True)  # 더 많은 데이터 포인트를 생성하여 부드러운 그래프를 위해\n",
    "y_smooth = f(x_new)\n",
    "plt.plot(x_new, y_smooth, color='b', linewidth=4, label='MAE') #선 그래프 그리기\n",
    "\n",
    "min_index = np.argmin(y_smooth)\n",
    "min_x = x_new[min_index]\n",
    "min_y = y_smooth[min_index]\n",
    "\n",
    "plt.axvline(x=min_x, color='b', linestyle='--', label='minMAE')  # 최솟값을 나타내는 빨간색 선 추가\n",
    "print(\"Minimum X:\", min_x*10)\n",
    "print(\"Minimum Y:\", min_y)\n",
    "\n",
    "colors = plt.cm.viridis(np.linspace(0, 1, 11))  # viridis 컬러맵을 사용하여 색상 리스트 생성\n",
    "plt.bar(range(11), mae_means, color=colors)\n",
    "plt.xlabel('Sensor Position', fontsize = FS)\n",
    "plt.ylabel('MAE scale (pixel)', fontsize = FS)\n",
    "plt.title('P1', fontsize = FS)\n",
    "plt.ylim(0, 50)\n",
    "plt.yticks(fontsize = FS)\n",
    "plt.xticks(range(11), [0.0, 0.1, 0.2, 0.3, 0.4, 0.5, 0.6, 0.7, 0.8, 0.9, 1.0], fontsize = FS)\n",
    "\n",
    "lines1, labels1 = plt.gca().get_legend_handles_labels()\n",
    "\n",
    "ax2 = plt.gca().twinx()\n",
    "\n",
    "max_y_value_index = y_values1.index(max(y_values1))\n",
    "ax2.axvline(x=x_values1[max_y_value_index], color='r', linestyle='--', label='maxTP')\n",
    "#ax2.yaxis.grid(False)\n",
    "ax2.plot(x_values1, y_values1, color='r', linewidth=4, label='TP')\n",
    "ax2.set_ylim(4, 7)\n",
    "ax2.tick_params(axis='y', labelsize=14)\n",
    "ax2.set_ylabel('TP scale (bit/s)', fontsize = FS)\n",
    "\n",
    "# 오른쪽 y 축의 범례 플로팅\n",
    "lines2, labels2 = ax2.get_legend_handles_labels()\n",
    "plt.legend(lines1+lines2, labels1+labels2, fontsize = FS)\n",
    "plt.grid()\n",
    "plt.show()"
   ]
  },
  {
   "cell_type": "code",
   "execution_count": 4,
   "id": "77900556-d428-4683-904c-f62b56de5ae8",
   "metadata": {},
   "outputs": [
    {
     "ename": "SyntaxError",
     "evalue": "invalid syntax (Temp/ipykernel_37712/629497118.py, line 1)",
     "output_type": "error",
     "traceback": [
      "\u001b[1;36m  File \u001b[1;32m\"C:\\Users\\minhe\\AppData\\Local\\Temp/ipykernel_37712/629497118.py\"\u001b[1;36m, line \u001b[1;32m1\u001b[0m\n\u001b[1;33m    python -m pip install --upgrade pip\u001b[0m\n\u001b[1;37m              ^\u001b[0m\n\u001b[1;31mSyntaxError\u001b[0m\u001b[1;31m:\u001b[0m invalid syntax\n"
     ]
    }
   ],
   "source": [
    "python -m pip install --upgrade pip"
   ]
  },
  {
   "cell_type": "code",
   "execution_count": null,
   "id": "778901e8",
   "metadata": {},
   "outputs": [],
   "source": []
  }
 ],
 "metadata": {
  "kernelspec": {
   "display_name": "Python 3 (ipykernel)",
   "language": "python",
   "name": "python3"
  },
  "language_info": {
   "codemirror_mode": {
    "name": "ipython",
    "version": 3
   },
   "file_extension": ".py",
   "mimetype": "text/x-python",
   "name": "python",
   "nbconvert_exporter": "python",
   "pygments_lexer": "ipython3",
   "version": "3.9.9"
  }
 },
 "nbformat": 4,
 "nbformat_minor": 5
}
